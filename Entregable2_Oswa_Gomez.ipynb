{
  "nbformat": 4,
  "nbformat_minor": 0,
  "metadata": {
    "colab": {
      "provenance": [],
      "authorship_tag": "ABX9TyMIAQOZCgQwnASlaShXEIEV",
      "include_colab_link": true
    },
    "kernelspec": {
      "name": "python3",
      "display_name": "Python 3"
    },
    "language_info": {
      "name": "python"
    }
  },
  "cells": [
    {
      "cell_type": "markdown",
      "metadata": {
        "id": "view-in-github",
        "colab_type": "text"
      },
      "source": [
        "<a href=\"https://colab.research.google.com/github/OswalGit01/Entregable_2_Oswal_Gomez/blob/main/Entregable2_Oswa_Gomez.ipynb\" target=\"_parent\"><img src=\"https://colab.research.google.com/assets/colab-badge.svg\" alt=\"Open In Colab\"/></a>"
      ]
    },
    {
      "cell_type": "code",
      "execution_count": 1,
      "metadata": {
        "id": "VRo7icYFKpZF",
        "colab": {
          "base_uri": "https://localhost:8080/"
        },
        "outputId": "0dc95679-59d3-4c50-a065-d2e49282177b"
      },
      "outputs": [
        {
          "output_type": "stream",
          "name": "stdout",
          "text": [
            "      nombre    apellido sexo  edad(años)  altura (m)  peso(kg)  \\\n",
            "0     Alfred      Zapata    M          20        1.52        55   \n",
            "1   Alejando   Jaramillo    M          21        1.63        67   \n",
            "2      Sofia     Londoño    F          24        1.53        65   \n",
            "3      Lucas     Marquez    M          22        1.82        68   \n",
            "4    Estiven     Gaviria    M          17        1.80        58   \n",
            "5    Manuela      Garcia    F          24        1.78        66   \n",
            "6  Valentina       Perez    F          15        1.79        55   \n",
            "7     Felipe      Botero    M          12        1.72        61   \n",
            "8    Lorenzo  Castrillon    M          19        1.73        60   \n",
            "9     Daniel     Alvarez    M          26        1.66        59   \n",
            "\n",
            "  grupos_sanguineos  calorias actividad_fisica  comidas_al_dia  \n",
            "0                O+      2600             Alta               3  \n",
            "1                A-      2500            Media               4  \n",
            "2                B+      2300             Baja               3  \n",
            "3               AB+      2700            Media               5  \n",
            "4                O-      2400             Alta               3  \n",
            "5                A+      2200            Media               4  \n",
            "6                B-      2100             Baja               3  \n",
            "7                O+      2000             Baja               4  \n",
            "8               AB-      2450            Media               3  \n",
            "9                A+      2650             Alta               5  \n"
          ]
        }
      ],
      "source": [
        "## primer dataframe (DF1)////////////////////////////////////////////////////////////////////////////////////////////////////\n",
        "import pandas as pd\n",
        "datos = {\n",
        "    'nombre': ['Alfred', 'Alejando', 'Sofia', 'Lucas', 'Estiven', 'Manuela', 'Valentina', 'Felipe', 'Lorenzo', 'Daniel'],\n",
        "    'apellido': ['Zapata', 'Jaramillo', 'Londoño', 'Marquez', 'Gaviria', 'Garcia', 'Perez', 'Botero', 'Castrillon', 'Alvarez'],\n",
        "    'sexo': ['M', 'M', 'F', 'M', 'M', 'F', 'F', 'M', 'M', 'M'],\n",
        "    'edad(años)': [20, 21, 24, 22, 17, 24, 15, 12, 19, 26],\n",
        "    'altura (m)': [1.52, 1.63, 1.53, 1.82, 1.80, 1.78, 1.79, 1.72, 1.73, 1.66],\n",
        "    'peso(kg)': [55, 67, 65, 68, 58, 66, 55, 61, 60, 59],\n",
        "    'grupos_sanguineos': ['O+', 'A-', 'B+', 'AB+', 'O-', 'A+', 'B-', 'O+', 'AB-', 'A+'],\n",
        "    'calorias': [2600 , 2500 , 2300 , 2700 , 2400 , 2200 , 2100 , 2000 , 2450 , 2650],\n",
        "    'actividad_fisica': ['Alta', 'Media', 'Baja', 'Media', 'Alta', 'Media', 'Baja', 'Baja', 'Media', 'Alta'],\n",
        "    'comidas_al_dia':[3, 4, 3, 5, 3, 4, 3, 4, 3, 5 ],\n",
        "}\n",
        "df1 = pd.DataFrame(datos)\n",
        "print(df1)"
      ]
    },
    {
      "cell_type": "code",
      "source": [
        "df1 = pd.DataFrame(datos, index=['a','b','c','d','e','f','g','h','i','j'])\n",
        "print(df1)"
      ],
      "metadata": {
        "id": "EufHmk8GnueL"
      },
      "execution_count": null,
      "outputs": []
    },
    {
      "cell_type": "code",
      "source": [
        "## primeros 3 datos (cabeza)\n",
        "df1.head(3)"
      ],
      "metadata": {
        "id": "4-efzaB4ncCK"
      },
      "execution_count": null,
      "outputs": []
    },
    {
      "cell_type": "code",
      "source": [
        "## ultimos datos (cola)\n",
        "df1.tail(3)"
      ],
      "metadata": {
        "id": "iwK2_JOZniaS"
      },
      "execution_count": null,
      "outputs": []
    },
    {
      "cell_type": "code",
      "source": [
        "df1.info()"
      ],
      "metadata": {
        "id": "SVpIj3WHv-ch"
      },
      "execution_count": null,
      "outputs": []
    },
    {
      "cell_type": "code",
      "source": [
        "df1.dtypes"
      ],
      "metadata": {
        "id": "qOSKpzY_wU3a"
      },
      "execution_count": null,
      "outputs": []
    },
    {
      "cell_type": "code",
      "source": [
        "df1.columns = ['Primer_Nombre', 'Primer_Apellido', 'Sexo_Biologico', 'Edad_Cumplida', 'Altura_en_metros','Peso_en_kilogramos','Tipo_Sangre','Kilocalorías','Frecuencia_ejercicio','Frecuencia_alimentacion']\n",
        "print(df1)"
      ],
      "metadata": {
        "id": "lYct_z2awaRC"
      },
      "execution_count": null,
      "outputs": []
    },
    {
      "cell_type": "code",
      "source": [
        "names = df1['Primer_Nombre']\n",
        "print(names)"
      ],
      "metadata": {
        "id": "ZkfnIrDbrOjN"
      },
      "execution_count": null,
      "outputs": []
    },
    {
      "cell_type": "code",
      "source": [
        "df1[['Altura_en_metros', 'Peso_en_kilogramos']]"
      ],
      "metadata": {
        "id": "76Rpls4urUpn"
      },
      "execution_count": null,
      "outputs": []
    },
    {
      "cell_type": "code",
      "source": [
        "# hombres mayores de edad\n",
        "df1[df1['Edad_Cumplida'] >= 18]\n",
        "df1[df1['Sexo_Biologico'] != \"M\"]"
      ],
      "metadata": {
        "id": "OD1vD0LcruVW"
      },
      "execution_count": null,
      "outputs": []
    },
    {
      "cell_type": "code",
      "source": [
        "operatorOr = df1[(df1['Edad_Cumplida'] > 18) | (df1['Altura_en_metros'] >= 1.70)]\n",
        "operatorAnd = df1[(df1['Edad_Cumplida'] <= 18) & (df1['Altura_en_metros'] < 1.75)]\n",
        "\n",
        "print(operatorOr)\n",
        "print(operatorAnd)"
      ],
      "metadata": {
        "id": "69WTUXiIsExK"
      },
      "execution_count": null,
      "outputs": []
    },
    {
      "cell_type": "code",
      "source": [
        "df1[['Edad_Cumplida', 'Altura_en_metros', 'Peso_en_kilogramos']].mean()"
      ],
      "metadata": {
        "id": "mgKMgVL4tkMM"
      },
      "execution_count": null,
      "outputs": []
    },
    {
      "cell_type": "code",
      "source": [
        "df1[['Edad_Cumplida', 'Altura_en_metros', 'Peso_en_kilogramos']].median()"
      ],
      "metadata": {
        "id": "uQZNJuiEvBsv"
      },
      "execution_count": null,
      "outputs": []
    },
    {
      "cell_type": "code",
      "source": [
        "df1[['Edad_Cumplida', 'Altura_en_metros', 'Peso_en_kilogramos']].std()"
      ],
      "metadata": {
        "id": "Gvl7w1MCvGHl"
      },
      "execution_count": null,
      "outputs": []
    },
    {
      "cell_type": "code",
      "source": [
        "df1[['Edad_Cumplida', 'Altura_en_metros', 'Peso_en_kilogramos']].min()"
      ],
      "metadata": {
        "id": "HB_8_RpevIOk"
      },
      "execution_count": null,
      "outputs": []
    },
    {
      "cell_type": "code",
      "source": [
        "df1[['Edad_Cumplida', 'Altura_en_metros', 'Peso_en_kilogramos']].max()"
      ],
      "metadata": {
        "id": "LcS7xYJcvOpX"
      },
      "execution_count": null,
      "outputs": []
    },
    {
      "cell_type": "code",
      "source": [
        "df1.describe()"
      ],
      "metadata": {
        "id": "vkIt2t99vRNB"
      },
      "execution_count": null,
      "outputs": []
    },
    {
      "cell_type": "code",
      "source": [
        "df1 = df1.drop(columns='Primer_Apellido')\n",
        "print(df1)"
      ],
      "metadata": {
        "id": "tL92Yw5VvSRN"
      },
      "execution_count": null,
      "outputs": []
    },
    {
      "cell_type": "code",
      "source": [
        "df1 = df1.drop(index='g')\n",
        "print(df1)"
      ],
      "metadata": {
        "id": "IlPi2BIdvZSe"
      },
      "execution_count": null,
      "outputs": []
    },
    {
      "cell_type": "code",
      "source": [
        "## segundo dataframe (DF2)////////////////////////////////////////////////////////////////////////////////////////////////////\n",
        "import pandas as pd\n",
        "\n",
        "datos2 = {\n",
        "    'ciudad': ['Bogotá', 'Medellín', 'Cali', 'Barranquilla', 'Bucaramanga', 'Cartagena', 'Pereira', 'Manizales', 'Cúcuta', 'Ibagué'],\n",
        "    'profesion': ['Ingeniero', 'Doctor', 'Abogado', 'Diseñador', 'Profesor', 'Enfermero', 'Psicólogo', 'Contador', 'Arquitecto', 'Chef'],\n",
        "    'estado_civil': ['Soltero', 'Casado', 'Soltero', 'Divorciado', 'Viudo', 'Casado', 'Soltero', 'Casado', 'Divorciado', 'Soltero'],\n",
        "    'nivel_educativo': ['Bachiller', 'Universitario', 'Técnico', 'Maestría', 'Doctorado', 'Universitario', 'Técnico', 'Maestría', 'Bachiller', 'Doctorado'],\n",
        "    'tipo_vivienda': ['Casa', 'Apartamento', 'Casa', 'Apartamento', 'Casa', 'Apartamento', 'Casa', 'Apartamento', 'Casa', 'Apartamento'],\n",
        "    'afiliacion_salud': ['EPS', 'Prepagada', 'EPS', 'SISBEN', 'EPS', 'Prepagada', 'SISBEN', 'EPS', 'Prepagada', 'SISBEN'],\n",
        "    'medio_transporte': ['Bus', 'Metro', 'Moto', 'Carro', 'Bicicleta', 'Taxi', 'Pie', 'Bus', 'Metro', 'Carro'],\n",
        "    'mascotas': [2, 2, 1, 4, 2, 1, 1, 2, 0, 1],\n",
        "    'hobby': ['Leer', 'Deportes', 'Cine', 'Música', 'Viajar', 'Videojuegos', 'Pintar', 'Bailar', 'Fotografía', 'Jardinería'],\n",
        "    'genero_musical': ['Rock', 'Pop', 'Salsa', 'Reggaetón', 'Clásica', 'Vallenato', 'Rap', 'Jazz', 'Electrónica', 'Blues']\n",
        "}\n",
        "\n",
        "df2 = pd.DataFrame(datos2)\n",
        "print(df2)\n"
      ],
      "metadata": {
        "id": "nXZmnWLbv3M5"
      },
      "execution_count": null,
      "outputs": []
    },
    {
      "cell_type": "code",
      "source": [
        "df2 = pd.DataFrame(datos2, index=[1,2,3,4,5,6,7,8,9,10])\n",
        "print(df2)"
      ],
      "metadata": {
        "id": "H0QhdWljwIxD"
      },
      "execution_count": null,
      "outputs": []
    },
    {
      "cell_type": "code",
      "source": [
        "df2.head(2)"
      ],
      "metadata": {
        "id": "6ZVhmTwjwXnm"
      },
      "execution_count": null,
      "outputs": []
    },
    {
      "cell_type": "code",
      "source": [
        "df2.tail(4)"
      ],
      "metadata": {
        "id": "G9zR0q5hwn2-"
      },
      "execution_count": null,
      "outputs": []
    },
    {
      "cell_type": "code",
      "source": [
        "df2.info()"
      ],
      "metadata": {
        "id": "wdibNtHjwqa_"
      },
      "execution_count": null,
      "outputs": []
    },
    {
      "cell_type": "code",
      "source": [
        "df2.dtypes"
      ],
      "metadata": {
        "id": "a8NA5pkawuxB"
      },
      "execution_count": null,
      "outputs": []
    },
    {
      "cell_type": "code",
      "source": [
        "df2.columns = ['localidad_residencia', 'ocupacion_laboral', 'situacion_conyugal', 'formacion_academica', 'tipo_de_residencia', 'regimen_salud', 'medio_de_movilizacion', 'cantidad_mascotas', 'actividad_preferida', 'estilo_musical']\n",
        "print(df2)"
      ],
      "metadata": {
        "id": "OnYaV_1ZwupW"
      },
      "execution_count": null,
      "outputs": []
    },
    {
      "cell_type": "code",
      "source": [
        "names2 = df2['formacion_academica']\n",
        "print(names2)"
      ],
      "metadata": {
        "id": "-f74xD3HwuiY"
      },
      "execution_count": null,
      "outputs": []
    },
    {
      "cell_type": "code",
      "source": [
        "df2[['regimen_salud', 'medio_de_movilizacion',]]"
      ],
      "metadata": {
        "id": "mTQMRnyYwuSP"
      },
      "execution_count": null,
      "outputs": []
    },
    {
      "cell_type": "code",
      "source": [
        "# hombres mayores de edad\n",
        "df2[df2['localidad_residencia'] != 'Bucaramanga' ]\n",
        "df2[df2['estilo_musical'] != 'Reggaetón']"
      ],
      "metadata": {
        "id": "Ptqfe8B2w5KD"
      },
      "execution_count": null,
      "outputs": []
    },
    {
      "cell_type": "code",
      "source": [
        "operatorOr2 = df2[(df2['localidad_residencia'] == 'Manizales') | (df2['regimen_salud'] == 'EPS')]\n",
        "operatorAnd2 = df2[(df2['cantidad_mascotas'] == '2') & (df2['ocupacion_laboral'] == 'Abogado')]\n",
        "\n",
        "print(operatorOr2)\n",
        "print(operatorAnd2)"
      ],
      "metadata": {
        "id": "HtvfZOSkw5H1"
      },
      "execution_count": null,
      "outputs": []
    },
    {
      "cell_type": "code",
      "source": [
        "df2[['cantidad_mascotas']].mean()"
      ],
      "metadata": {
        "id": "WwqQgmb9SHKH"
      },
      "execution_count": null,
      "outputs": []
    },
    {
      "cell_type": "code",
      "source": [
        "df2[['cantidad_mascotas']].median()"
      ],
      "metadata": {
        "id": "H_OMrTd0SIZv"
      },
      "execution_count": null,
      "outputs": []
    },
    {
      "cell_type": "code",
      "source": [
        "df2[['cantidad_mascotas']].std()"
      ],
      "metadata": {
        "id": "waWnaaOuSITY"
      },
      "execution_count": null,
      "outputs": []
    },
    {
      "cell_type": "code",
      "source": [
        "df2[['cantidad_mascotas']].min()"
      ],
      "metadata": {
        "id": "bJ68ZFdDSH_X"
      },
      "execution_count": null,
      "outputs": []
    },
    {
      "cell_type": "code",
      "source": [
        "df2[['cantidad_mascotas']].max()"
      ],
      "metadata": {
        "id": "Jt0JKwxASH3g"
      },
      "execution_count": null,
      "outputs": []
    },
    {
      "cell_type": "code",
      "source": [
        "df2.describe()"
      ],
      "metadata": {
        "id": "YpyLc-qXSPU5"
      },
      "execution_count": null,
      "outputs": []
    },
    {
      "cell_type": "code",
      "source": [
        "df2 = df2.drop(columns='localidad_residencia')\n",
        "print(df2)"
      ],
      "metadata": {
        "id": "qm0h2k29R33f"
      },
      "execution_count": null,
      "outputs": []
    },
    {
      "cell_type": "code",
      "source": [
        "df2 = df2.drop(index= 4)\n",
        "print(df2)"
      ],
      "metadata": {
        "id": "nCB2bbaexLby"
      },
      "execution_count": null,
      "outputs": []
    },
    {
      "cell_type": "code",
      "source": [
        "## tercer dataframe (DF3)////////////////////////////////////////////////////////////////////////////////////////////////////\n",
        "import pandas as pd\n",
        "\n",
        "datos3 = {\n",
        "    'id_usuario': [1001, 1002, 1003, 1004, 1005, 1006, 1007, 1008, 1009, 1010],\n",
        "    'nombre_usuario': ['natalia23', 'diego87', 'laura_m', 'felipe09', 'andres_21', 'caro12', 'mateoZ', 'linaX', 'santi_b', 'julian99'],\n",
        "    'pais': ['Colombia', 'México', 'Chile', 'Perú', 'Argentina', 'Ecuador', 'Colombia', 'México', 'Chile', 'Perú'],\n",
        "    'edad': [25, 34, 28, 19, 42, 31, 22, 27, 30, 36],\n",
        "    'suscrito_newsletter': ['Sí', 'No', 'Sí', 'Sí', 'No', 'No', 'Sí', 'No', 'Sí', 'Sí'],\n",
        "    'puntos_fidelidad': [1240, 875, 1320, 455, 2100, 600, 980, 1105, 760, 1580],\n",
        "    'nivel_membresia': ['Oro', 'Plata', 'Oro', 'Bronce', 'Oro', 'Plata', 'Bronce', 'Plata', 'Bronce', 'Oro'],\n",
        "    'visitas_ult_mes': [5, 2, 8, 1, 12, 3, 6, 4, 7, 10],\n",
        "    'dispositivo': ['Móvil', 'Computador', 'Móvil', 'Tablet', 'Computador', 'Móvil', 'Tablet', 'Computador', 'Móvil', 'Tablet'],\n",
        "    'calificacion_satisfaccion': [4.5, 3.8, 4.9, 3.2, 5.0, 4.1, 4.3, 3.5, 4.7, 4.0]\n",
        "}\n",
        "\n",
        "df3 = pd.DataFrame(datos3)"
      ],
      "metadata": {
        "id": "iUwr3NWsZ4Mk"
      },
      "execution_count": 75,
      "outputs": []
    },
    {
      "cell_type": "code",
      "source": [
        "# Iindice en numeros romanos\n",
        "df3 = pd.DataFrame(datos3, index=['l','11','111','1V','V','V1','V11','V111','1X','X'])\n",
        "print(df3)"
      ],
      "metadata": {
        "id": "mm6nG0YOx2uH"
      },
      "execution_count": null,
      "outputs": []
    },
    {
      "cell_type": "code",
      "source": [
        "df3.head(1)"
      ],
      "metadata": {
        "id": "7Ui8stGWYkkg"
      },
      "execution_count": null,
      "outputs": []
    },
    {
      "cell_type": "code",
      "source": [
        "df3.tail(7)"
      ],
      "metadata": {
        "id": "yrJPDkgDxjWm"
      },
      "execution_count": null,
      "outputs": []
    },
    {
      "cell_type": "code",
      "source": [
        "df3.info()"
      ],
      "metadata": {
        "id": "F27iiOaxxjyt"
      },
      "execution_count": null,
      "outputs": []
    },
    {
      "cell_type": "code",
      "source": [
        "df3.dtypes"
      ],
      "metadata": {
        "id": "V5j2SSITxkVP"
      },
      "execution_count": null,
      "outputs": []
    },
    {
      "cell_type": "code",
      "source": [
        "df3.columns = ['codigo_identificacion', 'alias_usuario', 'nacion_origen', 'edad_cumplida', 'recibe_boletin', 'creditos_acumulados', 'categoria_membresia', 'frecuencia_mensual_visitas', 'equipo_utilizado', 'valoracion_experiencia']\n",
        "print(df3)\n"
      ],
      "metadata": {
        "id": "pYdtEv7Cxkvl"
      },
      "execution_count": null,
      "outputs": []
    },
    {
      "cell_type": "code",
      "source": [
        "names3 = df3['edad_cumplida']\n",
        "print(names3)"
      ],
      "metadata": {
        "id": "3QyVigPOxlOl"
      },
      "execution_count": null,
      "outputs": []
    },
    {
      "cell_type": "code",
      "source": [
        "df3[['creditos_acumulados', 'categoria_membresia']]"
      ],
      "metadata": {
        "id": "Nu-49wLfxluU"
      },
      "execution_count": null,
      "outputs": []
    },
    {
      "cell_type": "code",
      "source": [
        "df3[df3['edad_cumplida'] >= 18]\n",
        "df3[df3['recibe_boletin'] != 'Sí']"
      ],
      "metadata": {
        "id": "sfej3BhzxmE0"
      },
      "execution_count": null,
      "outputs": []
    },
    {
      "cell_type": "code",
      "source": [
        "operatorOr3 = df3[(df3['creditos_acumulados'] > 1000) | (df3['edad_cumplida'] >= 30)]\n",
        "operatorAnd3 = df3[(df3['frecuencia_mensual_visitas'] <= 5) & (df3['valoracion_experiencia'] < 4.5)]\n",
        "\n",
        "print(operatorOr3)\n",
        "print(operatorAnd3)"
      ],
      "metadata": {
        "id": "xH__rGfxxmhu"
      },
      "execution_count": null,
      "outputs": []
    },
    {
      "cell_type": "code",
      "source": [
        "df3[['edad_cumplida', 'creditos_acumulados']].mean()"
      ],
      "metadata": {
        "id": "wcRa-nXIxnEM"
      },
      "execution_count": null,
      "outputs": []
    },
    {
      "cell_type": "code",
      "source": [
        "df3[['edad_cumplida', 'creditos_acumulados' ]].median()"
      ],
      "metadata": {
        "id": "9xblCDbTxnbO"
      },
      "execution_count": null,
      "outputs": []
    },
    {
      "cell_type": "code",
      "source": [
        "df3[['edad_cumplida', 'creditos_acumulados']].std()"
      ],
      "metadata": {
        "id": "D8G0xJTrxn5v"
      },
      "execution_count": null,
      "outputs": []
    },
    {
      "cell_type": "code",
      "source": [
        "df3[['edad_cumplida', 'creditos_acumulados']].min()"
      ],
      "metadata": {
        "id": "EGQr9ffUxoO9"
      },
      "execution_count": null,
      "outputs": []
    },
    {
      "cell_type": "code",
      "source": [
        "df3[['edad_cumplida', 'creditos_acumulados']].max()"
      ],
      "metadata": {
        "id": "tpraQnUhxold"
      },
      "execution_count": null,
      "outputs": []
    },
    {
      "cell_type": "code",
      "source": [
        "df3 = df3.drop(columns='categoria_membresia')\n",
        "print(df3)"
      ],
      "metadata": {
        "id": "JdGvRkw7R8H_"
      },
      "execution_count": null,
      "outputs": []
    },
    {
      "cell_type": "code",
      "source": [
        "df3 = df3.drop(index='V11')\n",
        "print(df3)"
      ],
      "metadata": {
        "id": "58ZrShYHxims"
      },
      "execution_count": null,
      "outputs": []
    }
  ]
}